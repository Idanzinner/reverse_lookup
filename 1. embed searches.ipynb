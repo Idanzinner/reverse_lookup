{
 "cells": [
  {
   "cell_type": "markdown",
   "metadata": {
    "application/vnd.databricks.v1+cell": {
     "cellMetadata": {
      "byteLimit": 2048000,
      "rowLimit": 10000
     },
     "inputWidgets": {},
     "nuid": "0f422392-2270-49c0-8668-2bbb6a158345",
     "showTitle": false,
     "title": ""
    }
   },
   "source": [
    "# Impoerts"
   ]
  },
  {
   "cell_type": "code",
   "execution_count": 0,
   "metadata": {
    "application/vnd.databricks.v1+cell": {
     "cellMetadata": {
      "byteLimit": 2048000,
      "rowLimit": 10000
     },
     "inputWidgets": {},
     "nuid": "a307544e-351f-45fa-b49c-6f382b2c75ea",
     "showTitle": false,
     "title": ""
    }
   },
   "outputs": [],
   "source": [
    "# spark\n",
    "from pyspark.sql import types as T\n",
    "from pyspark.sql.functions import udf\n",
    "from pyspark.sql import functions as F\n",
    "\n",
    "# similarity\n",
    "from sentence_transformers import SentenceTransformer\n",
    "from sklearn.metrics.pairwise import cosine_similarity\n",
    "\n",
    "# data structs\n",
    "import pandas as pd\n",
    "import numpy as np\n",
    "\n",
    "# functionality\n",
    "from collections import Counter"
   ]
  },
  {
   "cell_type": "markdown",
   "metadata": {
    "application/vnd.databricks.v1+cell": {
     "cellMetadata": {
      "byteLimit": 2048000,
      "rowLimit": 10000
     },
     "inputWidgets": {},
     "nuid": "3302ff14-0f45-44dc-b311-8e8680427362",
     "showTitle": false,
     "title": ""
    }
   },
   "source": [
    "# Hyperparameters"
   ]
  },
  {
   "cell_type": "code",
   "execution_count": 0,
   "metadata": {
    "application/vnd.databricks.v1+cell": {
     "cellMetadata": {
      "byteLimit": 2048000,
      "rowLimit": 10000
     },
     "inputWidgets": {},
     "nuid": "9a06ad4a-d850-4d12-89b2-326f0e72fc57",
     "showTitle": false,
     "title": ""
    }
   },
   "outputs": [],
   "source": [
    "# embvedding\n",
    "model_name = \"BAAI/bge-m3\"\n",
    "instructions = \"Embed only the name in: \"\n",
    "threshold = 0.79\n",
    "\n",
    "#data\n",
    "search_path = \"ds_internal_tables.reverse_lookup\""
   ]
  },
  {
   "cell_type": "markdown",
   "metadata": {
    "application/vnd.databricks.v1+cell": {
     "cellMetadata": {
      "byteLimit": 2048000,
      "rowLimit": 10000
     },
     "inputWidgets": {},
     "nuid": "6afc1af0-85af-4828-b326-c06c423dc33a",
     "showTitle": false,
     "title": ""
    }
   },
   "source": [
    "# Util functions"
   ]
  },
  {
   "cell_type": "code",
   "execution_count": 0,
   "metadata": {
    "application/vnd.databricks.v1+cell": {
     "cellMetadata": {
      "byteLimit": 2048000,
      "rowLimit": 10000
     },
     "inputWidgets": {},
     "nuid": "a363c14f-c8c9-46cf-81eb-31e9cd1bc7a3",
     "showTitle": false,
     "title": ""
    }
   },
   "outputs": [],
   "source": [
    "# cosine similarity to probability\n",
    "\n",
    "def dcision_from_ip(ip,threshold):\n",
    "        Lambda = (1-threshold)/np.log(0.5)\n",
    "        passed = np.exp((1-ip)/Lambda)\n",
    "        return passed\n",
    "    \n",
    "@F.pandas_udf(\"double\")\n",
    "def pandas_ip_to_decision(series: pd.Series) -> pd.Series:\n",
    "        output = series.apply(lambda items_list:np.sum([dcision_from_ip(item['ip'],threshold=threshold)*item['count'] for item in items_list]))\n",
    "        return pd.Series(output)  \n",
    "\n",
    "# what is the ratio of names that have passed the threshold\n",
    "@F.pandas_udf(\"int\")\n",
    "def pandas_passed_threhsold(series: pd.Series) -> pd.Series:\n",
    "        output = series.apply(lambda items_list:np.sum([value['count'] for value in items_list if value['ip']>threshold]))\n",
    "        return pd.Series(output) \n",
    "    \n",
    "# panda apply embed function\n",
    "\n",
    "def get_simialrities_score_pd_udf(df: pd.DataFrame) -> pd.DataFrame:\n",
    "\n",
    "    # original dataframe columns\n",
    "    cols = df.columns\n",
    "\n",
    "    # working tempurary dataframe\n",
    "    tmp = df.copy()\n",
    "\n",
    "    # search origin name\n",
    "    tmp['full_name'] = tmp['search_item'].apply(lambda item:item['full_name'])\n",
    "\n",
    "    # search result names\n",
    "    tmp['names_count'] = tmp['search_item'].apply(lambda item:Counter([source['_source']['name']['full'] for source in item['lookup_docs']]))\n",
    "    tmp['names'] = tmp['names_count'].apply(lambda item:list(item.keys()))\n",
    "\n",
    "    # count the frequency of names\n",
    "    tmp['counts'] = tmp['names_count'].apply(lambda item:list(item.values()))\n",
    "\n",
    "    # embed only the unique set and make a map of {name:embedding vector}\n",
    "    df_explode = tmp[['normalized_number','full_name','names','counts']].explode(['names','counts'])\n",
    "    items_to_embed = list(name for name in set(tmp['full_name'].to_list()+[name for names in tmp['names'].to_list() for name in names]))\n",
    "    embeddings = {name:embeddings for name,embeddings in zip(items_to_embed,model.encode([instructions+item for item in items_to_embed],batch_size=512,normalize_embeddings=True).tolist())}\n",
    "\n",
    "    # map names to vectors\n",
    "    df_explode['origin_embeddings'] = df_explode['full_name'].map(embeddings)\n",
    "    df_explode['names_embeddings'] = df_explode['names'].map(embeddings)\n",
    "    origin = np.array(df_explode['origin_embeddings'].to_list())\n",
    "    lookup = np.array(df_explode['names_embeddings'].to_list())\n",
    "\n",
    "    # dot product of origin name vector and search names vectors matrix\n",
    "    df_explode['ip'] = np.sum(np.multiply(origin,lookup),axis=1).tolist()\n",
    "\n",
    "    # dictionary of [name,score (ip), frequency (count)]\n",
    "    df_explode['values'] = df_explode.apply(lambda x:{'name':x['names'],'ip':x['ip'],'count':x['counts']},axis=1)\n",
    "\n",
    "    # aggregate by the phone number\n",
    "    output = pd.pivot_table(df_explode,index='normalized_number',values='values',aggfunc=lambda x:x.to_list())\n",
    "\n",
    "    # total number of occurrences\n",
    "    output['counts'] = output['values'].apply(lambda list_of_dicts:np.sum([one_dict['count'] for one_dict in list_of_dicts]))\n",
    "\n",
    "    # weight the score by the counts\n",
    "    output['ip_sum'] = output['values'].apply(lambda list_of_dicts:np.sum([one_dict['ip']*one_dict['count'] for one_dict in list_of_dicts]))\n",
    "    output['ip_avg'] = output['ip_sum']/output['counts']\n",
    "\n",
    "    # return the full dataframe\n",
    "    df[cols].join(output,on='normalized_number')\n",
    "\n",
    "    return df[cols].join(output,on='normalized_number')\n",
    "\n",
    "\n",
    "# pandas apply schema\n",
    "pandas_apply_added_schema = [T.StructField('values', T.ArrayType(T.StructType([T.StructField('count', T.LongType(), True),\n",
    "                                                   T.StructField('ip', T.DoubleType(), True),\n",
    "                                                   T.StructField('name', T.StringType(), True)]), True), True),\n",
    "                             T.StructField('counts', T.LongType(), True),\n",
    "                             T.StructField('ip_sum', T.DoubleType(), True),\n",
    "                             T.StructField('ip_avg', T.DoubleType(), True)]"
   ]
  },
  {
   "cell_type": "markdown",
   "metadata": {
    "application/vnd.databricks.v1+cell": {
     "cellMetadata": {
      "byteLimit": 2048000,
      "rowLimit": 10000
     },
     "inputWidgets": {},
     "nuid": "421d797f-d4b9-403b-9a75-ee2cee26b922",
     "showTitle": false,
     "title": ""
    }
   },
   "source": [
    "# Load searches"
   ]
  },
  {
   "cell_type": "code",
   "execution_count": 0,
   "metadata": {
    "application/vnd.databricks.v1+cell": {
     "cellMetadata": {
      "byteLimit": 2048000,
      "rowLimit": 10000
     },
     "inputWidgets": {},
     "nuid": "bc1475a7-71a7-431c-bb60-af19e3153147",
     "showTitle": false,
     "title": ""
    }
   },
   "outputs": [],
   "source": [
    "search_table = spark.read.table(search_path).limit(1000)\n",
    "N_samples = search_table.count()"
   ]
  },
  {
   "cell_type": "markdown",
   "metadata": {
    "application/vnd.databricks.v1+cell": {
     "cellMetadata": {
      "byteLimit": 2048000,
      "rowLimit": 10000
     },
     "inputWidgets": {},
     "nuid": "5f710595-2fa4-4423-a2c8-c86051551717",
     "showTitle": false,
     "title": ""
    }
   },
   "source": [
    "# Load model"
   ]
  },
  {
   "cell_type": "code",
   "execution_count": 0,
   "metadata": {
    "application/vnd.databricks.v1+cell": {
     "cellMetadata": {
      "byteLimit": 2048000,
      "rowLimit": 10000
     },
     "inputWidgets": {},
     "nuid": "84be8d5d-4dd6-4add-89d6-7dc51f91c5d5",
     "showTitle": false,
     "title": ""
    }
   },
   "outputs": [
    {
     "output_type": "display_data",
     "data": {
      "application/vnd.jupyter.widget-view+json": {
       "model_id": "1c047fb94fe74fe087a84f87d56715a5",
       "version_major": 2,
       "version_minor": 0
      },
      "text/plain": [
       "Downloading .gitattributes:   0%|          | 0.00/1.57k [00:00<?, ?B/s]"
      ]
     },
     "metadata": {},
     "output_type": "display_data"
    },
    {
     "output_type": "display_data",
     "data": {
      "application/vnd.jupyter.widget-view+json": {
       "model_id": "d17d3ccf844744ca9a78942f57e8548f",
       "version_major": 2,
       "version_minor": 0
      },
      "text/plain": [
       "Downloading 1_Pooling/config.json:   0%|          | 0.00/191 [00:00<?, ?B/s]"
      ]
     },
     "metadata": {},
     "output_type": "display_data"
    },
    {
     "output_type": "display_data",
     "data": {
      "application/vnd.jupyter.widget-view+json": {
       "model_id": "94bb63effa8949a789a8cb6e492d4d67",
       "version_major": 2,
       "version_minor": 0
      },
      "text/plain": [
       "Downloading README.md:   0%|          | 0.00/15.0k [00:00<?, ?B/s]"
      ]
     },
     "metadata": {},
     "output_type": "display_data"
    },
    {
     "output_type": "display_data",
     "data": {
      "application/vnd.jupyter.widget-view+json": {
       "model_id": "6741607ce31f48dfbf8b120f07813406",
       "version_major": 2,
       "version_minor": 0
      },
      "text/plain": [
       "Downloading colbert_linear.pt:   0%|          | 0.00/2.10M [00:00<?, ?B/s]"
      ]
     },
     "metadata": {},
     "output_type": "display_data"
    },
    {
     "output_type": "display_data",
     "data": {
      "application/vnd.jupyter.widget-view+json": {
       "model_id": "cc3fb52d3f5a4626b2a4eade6f15274d",
       "version_major": 2,
       "version_minor": 0
      },
      "text/plain": [
       "Downloading config.json:   0%|          | 0.00/687 [00:00<?, ?B/s]"
      ]
     },
     "metadata": {},
     "output_type": "display_data"
    },
    {
     "output_type": "display_data",
     "data": {
      "application/vnd.jupyter.widget-view+json": {
       "model_id": "1ccef1efde86487ab9b2489cc98d5800",
       "version_major": 2,
       "version_minor": 0
      },
      "text/plain": [
       "Downloading (…)ce_transformers.json:   0%|          | 0.00/123 [00:00<?, ?B/s]"
      ]
     },
     "metadata": {},
     "output_type": "display_data"
    },
    {
     "output_type": "display_data",
     "data": {
      "application/vnd.jupyter.widget-view+json": {
       "model_id": "ab31df0e09cc40e8b2e2b4e9ca58bdb1",
       "version_major": 2,
       "version_minor": 0
      },
      "text/plain": [
       "Downloading imgs/.DS_Store:   0%|          | 0.00/6.15k [00:00<?, ?B/s]"
      ]
     },
     "metadata": {},
     "output_type": "display_data"
    },
    {
     "output_type": "display_data",
     "data": {
      "application/vnd.jupyter.widget-view+json": {
       "model_id": "9b7b0e8c234940c98e854817d735f608",
       "version_major": 2,
       "version_minor": 0
      },
      "text/plain": [
       "Downloading imgs/bm25.jpg:   0%|          | 0.00/69.0k [00:00<?, ?B/s]"
      ]
     },
     "metadata": {},
     "output_type": "display_data"
    },
    {
     "output_type": "display_data",
     "data": {
      "application/vnd.jupyter.widget-view+json": {
       "model_id": "7cb84f54773d4083b1939567bcc1f17f",
       "version_major": 2,
       "version_minor": 0
      },
      "text/plain": [
       "Downloading imgs/long.jpg:   0%|          | 0.00/485k [00:00<?, ?B/s]"
      ]
     },
     "metadata": {},
     "output_type": "display_data"
    },
    {
     "output_type": "display_data",
     "data": {
      "application/vnd.jupyter.widget-view+json": {
       "model_id": "372412ec2cd3496286954f7c8725042d",
       "version_major": 2,
       "version_minor": 0
      },
      "text/plain": [
       "Downloading imgs/miracl.jpg:   0%|          | 0.00/448k [00:00<?, ?B/s]"
      ]
     },
     "metadata": {},
     "output_type": "display_data"
    },
    {
     "output_type": "display_data",
     "data": {
      "application/vnd.jupyter.widget-view+json": {
       "model_id": "e49e6827ae314faab4b53ee8f3ff5e26",
       "version_major": 2,
       "version_minor": 0
      },
      "text/plain": [
       "Downloading imgs/mkqa.jpg:   0%|          | 0.00/608k [00:00<?, ?B/s]"
      ]
     },
     "metadata": {},
     "output_type": "display_data"
    },
    {
     "output_type": "display_data",
     "data": {
      "application/vnd.jupyter.widget-view+json": {
       "model_id": "2c89dce973e646628d073ed26d5d1707",
       "version_major": 2,
       "version_minor": 0
      },
      "text/plain": [
       "Downloading imgs/nqa.jpg:   0%|          | 0.00/158k [00:00<?, ?B/s]"
      ]
     },
     "metadata": {},
     "output_type": "display_data"
    },
    {
     "output_type": "display_data",
     "data": {
      "application/vnd.jupyter.widget-view+json": {
       "model_id": "a598dc648b2f4d27911d4917cd5cc459",
       "version_major": 2,
       "version_minor": 0
      },
      "text/plain": [
       "Downloading imgs/others.webp:   0%|          | 0.00/21.0k [00:00<?, ?B/s]"
      ]
     },
     "metadata": {},
     "output_type": "display_data"
    },
    {
     "output_type": "display_data",
     "data": {
      "application/vnd.jupyter.widget-view+json": {
       "model_id": "db9e074f60a442af95f0ba8a1d779b1f",
       "version_major": 2,
       "version_minor": 0
      },
      "text/plain": [
       "Downloading long.jpg:   0%|          | 0.00/127k [00:00<?, ?B/s]"
      ]
     },
     "metadata": {},
     "output_type": "display_data"
    },
    {
     "output_type": "display_data",
     "data": {
      "application/vnd.jupyter.widget-view+json": {
       "model_id": "678b79d090664ff3aa1d12ee4cf51cd8",
       "version_major": 2,
       "version_minor": 0
      },
      "text/plain": [
       "Downloading model.safetensors:   0%|          | 0.00/2.27G [00:00<?, ?B/s]"
      ]
     },
     "metadata": {},
     "output_type": "display_data"
    },
    {
     "output_type": "display_data",
     "data": {
      "application/vnd.jupyter.widget-view+json": {
       "model_id": "d6214dc5c4704f4d87a73e3183fc23ae",
       "version_major": 2,
       "version_minor": 0
      },
      "text/plain": [
       "Downloading pytorch_model.bin:   0%|          | 0.00/2.27G [00:00<?, ?B/s]"
      ]
     },
     "metadata": {},
     "output_type": "display_data"
    },
    {
     "output_type": "display_data",
     "data": {
      "application/vnd.jupyter.widget-view+json": {
       "model_id": "801b2dab854343978db10b2be4e0e102",
       "version_major": 2,
       "version_minor": 0
      },
      "text/plain": [
       "Downloading (…)nce_bert_config.json:   0%|          | 0.00/54.0 [00:00<?, ?B/s]"
      ]
     },
     "metadata": {},
     "output_type": "display_data"
    },
    {
     "output_type": "display_data",
     "data": {
      "application/vnd.jupyter.widget-view+json": {
       "model_id": "325c33804690439f894425c518ecf581",
       "version_major": 2,
       "version_minor": 0
      },
      "text/plain": [
       "Downloading (…)tencepiece.bpe.model:   0%|          | 0.00/5.07M [00:00<?, ?B/s]"
      ]
     },
     "metadata": {},
     "output_type": "display_data"
    },
    {
     "output_type": "display_data",
     "data": {
      "application/vnd.jupyter.widget-view+json": {
       "model_id": "f154d57587a14dbc966603d0ec8b49be",
       "version_major": 2,
       "version_minor": 0
      },
      "text/plain": [
       "Downloading sparse_linear.pt:   0%|          | 0.00/3.52k [00:00<?, ?B/s]"
      ]
     },
     "metadata": {},
     "output_type": "display_data"
    },
    {
     "output_type": "display_data",
     "data": {
      "application/vnd.jupyter.widget-view+json": {
       "model_id": "bd9f5b68329f42d0bb05ca534f226193",
       "version_major": 2,
       "version_minor": 0
      },
      "text/plain": [
       "Downloading (…)cial_tokens_map.json:   0%|          | 0.00/964 [00:00<?, ?B/s]"
      ]
     },
     "metadata": {},
     "output_type": "display_data"
    },
    {
     "output_type": "display_data",
     "data": {
      "application/vnd.jupyter.widget-view+json": {
       "model_id": "8a74bcda8d0b4f238ba7bf8c77649a71",
       "version_major": 2,
       "version_minor": 0
      },
      "text/plain": [
       "Downloading tokenizer.json:   0%|          | 0.00/17.1M [00:00<?, ?B/s]"
      ]
     },
     "metadata": {},
     "output_type": "display_data"
    },
    {
     "output_type": "display_data",
     "data": {
      "application/vnd.jupyter.widget-view+json": {
       "model_id": "d214722bd25047fc94aec23a8bc3bead",
       "version_major": 2,
       "version_minor": 0
      },
      "text/plain": [
       "Downloading tokenizer_config.json:   0%|          | 0.00/444 [00:00<?, ?B/s]"
      ]
     },
     "metadata": {},
     "output_type": "display_data"
    },
    {
     "output_type": "display_data",
     "data": {
      "application/vnd.jupyter.widget-view+json": {
       "model_id": "37d759f60e6e4bf1b291cf068220fa93",
       "version_major": 2,
       "version_minor": 0
      },
      "text/plain": [
       "Downloading modules.json:   0%|          | 0.00/349 [00:00<?, ?B/s]"
      ]
     },
     "metadata": {},
     "output_type": "display_data"
    }
   ],
   "source": [
    "model = SentenceTransformer(model_name)"
   ]
  },
  {
   "cell_type": "markdown",
   "metadata": {
    "application/vnd.databricks.v1+cell": {
     "cellMetadata": {
      "byteLimit": 2048000,
      "rowLimit": 10000
     },
     "inputWidgets": {},
     "nuid": "f5b61710-cc63-4be6-8454-5c91cad5f518",
     "showTitle": false,
     "title": ""
    }
   },
   "source": [
    "# Apply scoring function "
   ]
  },
  {
   "cell_type": "code",
   "execution_count": 0,
   "metadata": {
    "application/vnd.databricks.v1+cell": {
     "cellMetadata": {
      "byteLimit": 2048000,
      "rowLimit": 10000
     },
     "inputWidgets": {},
     "nuid": "754bd598-9a76-4cc4-b4a2-f5f33873e851",
     "showTitle": false,
     "title": ""
    }
   },
   "outputs": [],
   "source": [
    "number_of_chunks = max(int(N_samples/2e5),10)\n",
    "output_schema = T.StructType(search_table.schema.fields + pandas_apply_added_schema)\n",
    "result_df = search_table.limit(N_samples).repartition(number_of_chunks).groupby(F.spark_partition_id()).applyInPandas(\n",
    "    get_simialrities_score_pd_udf,\n",
    "    schema=output_schema\n",
    ")  \n",
    "\n",
    "result_df = result_df.withColumn('ip_sum_exp',pandas_ip_to_decision(F.col('values')))\n",
    "result_df = result_df.withColumn('ip_avg_exp',(F.col('ip_sum_exp')/F.col('counts')))\n",
    "result_df = result_df.withColumn('passed_threhsold',pandas_passed_threhsold(F.col('values')))\n",
    "result_df = result_df.withColumn('passed_threhsold',(F.col('passed_threhsold')/F.col('counts')))\n",
    "result_df = result_df.withColumn('probability',(F.col('passed_threhsold')+F.col('ip_avg_exp'))/2)"
   ]
  },
  {
   "cell_type": "markdown",
   "metadata": {
    "application/vnd.databricks.v1+cell": {
     "cellMetadata": {
      "byteLimit": 2048000,
      "rowLimit": 10000
     },
     "inputWidgets": {},
     "nuid": "ebb941d0-84af-432c-9f7b-d552be2dd4a7",
     "showTitle": false,
     "title": ""
    }
   },
   "source": [
    "# Save data"
   ]
  },
  {
   "cell_type": "code",
   "execution_count": 0,
   "metadata": {
    "application/vnd.databricks.v1+cell": {
     "cellMetadata": {
      "byteLimit": 2048000,
      "rowLimit": 10000
     },
     "inputWidgets": {},
     "nuid": "572c6ffc-fdcb-46ff-a730-b0a0c60514af",
     "showTitle": false,
     "title": ""
    }
   },
   "outputs": [],
   "source": [
    "result_df.write\\\n",
    "    .format(\"delta\") \\\n",
    "    .mode(\"overwrite\") \\\n",
    "    .option(\"mergeSchema\", \"true\") \\\n",
    "    .saveAsTable(\"ds_internal_tables.example_results\") "
   ]
  }
 ],
 "metadata": {
  "application/vnd.databricks.v1+notebook": {
   "dashboards": [],
   "environmentMetadata": null,
   "language": "python",
   "notebookMetadata": {
    "pythonIndentUnit": 4
   },
   "notebookName": "1. embed searches",
   "widgets": {}
  }
 },
 "nbformat": 4,
 "nbformat_minor": 0
}
